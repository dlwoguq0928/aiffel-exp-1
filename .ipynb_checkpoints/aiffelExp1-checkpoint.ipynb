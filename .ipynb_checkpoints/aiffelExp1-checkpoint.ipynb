{
 "cells": [
  {
   "cell_type": "code",
   "execution_count": 82,
   "id": "b51438e4",
   "metadata": {},
   "outputs": [],
   "source": [
    "import tensorflow\n",
    "from tensorflow import keras\n",
    "import numpy as np\n",
    "import os\n",
    "from glob import glob\n",
    "from glob import iglob\n",
    "from PIL import Image"
   ]
  },
  {
   "cell_type": "code",
   "execution_count": 83,
   "id": "b97a680c",
   "metadata": {},
   "outputs": [],
   "source": [
    "# Image Resizing Method\n",
    "def resize_images(img_path):\n",
    "\timages=glob(img_path + \"/*.png\")  \n",
    " \n",
    "\tprint(len(images), \" images to be resized.\")\n",
    " \n",
    "\ttarget_size=(28,28)\n",
    "\tfor img in images:\n",
    "\t\told_img=Image.open(img)\n",
    "\t\tnew_img=old_img.resize(target_size,Image.ANTIALIAS)\n",
    "\t\tnew_img.save(img, \"PNG\")\n",
    "  \n",
    "\tprint(len(images), \" images resized.\")\n",
    "\n",
    "# Data Loading Method\n",
    "def load_data(img_path, number_of_data=100):  # 가위바위보 이미지 개수 총합에 주의하세요.\n",
    "    # 가위 : 0, 바위 : 1, 보 : 2\n",
    "    img_size=28\n",
    "    color=4\n",
    "    imgs=np.zeros(number_of_data*img_size*img_size*color,dtype=np.int32).reshape(number_of_data,img_size,img_size,color)\n",
    "    labels=np.zeros(number_of_data,dtype=np.int32)\n",
    "\n",
    "    idx=0\n",
    "    for file in iglob(img_path+'/scissors/*.png'):\n",
    "        img = np.array(Image.open(file),dtype=np.int32)\n",
    "        imgs[idx,:,:,:]=img\n",
    "        labels[idx]=0\n",
    "        idx=idx+1\n",
    "\n",
    "    for file in iglob(img_path+'/rock/*.png'):\n",
    "        img = np.array(Image.open(file),dtype=np.int32)\n",
    "        imgs[idx,:,:,:]=img\n",
    "        labels[idx]=1\n",
    "        idx=idx+1  \n",
    "\n",
    "    for file in iglob(img_path+'/paper/*.png'):\n",
    "        img = np.array(Image.open(file),dtype=np.int32)\n",
    "        imgs[idx,:,:,:]=img\n",
    "        labels[idx]=2\n",
    "        idx=idx+1\n",
    "    print(\"학습데이터(x_train)의 이미지 개수는\", idx,\"입니다.\")\n",
    "    return imgs, labels"
   ]
  },
  {
   "cell_type": "code",
   "execution_count": 84,
   "id": "4e1afe0c",
   "metadata": {},
   "outputs": [
    {
     "name": "stdout",
     "output_type": "stream",
     "text": [
      "840  images to be resized.\n",
      "840  images resized.\n",
      "840  images to be resized.\n",
      "840  images resized.\n",
      "840  images to be resized.\n",
      "840  images resized.\n",
      "124  images to be resized.\n",
      "124  images resized.\n",
      "124  images to be resized.\n",
      "124  images resized.\n",
      "124  images to be resized.\n",
      "124  images resized.\n"
     ]
    }
   ],
   "source": [
    "# Resize the Data Images : Train\n",
    "image_dir_path = \"dataset/train/scissors\"\n",
    "resize_images(image_dir_path)\n",
    "image_dir_path =  \"dataset/train/rock\"\n",
    "resize_images(image_dir_path)\n",
    "image_dir_path = \"dataset/train/paper\"\n",
    "resize_images(image_dir_path)\n",
    "\n",
    "# Resize the Data Images : Test\n",
    "image_dir_path = \"dataset/test/scissors\"\n",
    "resize_images(image_dir_path)\n",
    "image_dir_path =  \"dataset/test/rock\"\n",
    "resize_images(image_dir_path)\n",
    "image_dir_path = \"dataset/test/paper\"\n",
    "resize_images(image_dir_path)\n"
   ]
  },
  {
   "cell_type": "code",
   "execution_count": 85,
   "id": "6c4c6160",
   "metadata": {},
   "outputs": [
    {
     "name": "stdout",
     "output_type": "stream",
     "text": [
      "학습데이터(x_train)의 이미지 개수는 2520 입니다.\n",
      "x_train shape: (2520, 28, 28, 4)\n",
      "y_train shape: (2520,)\n",
      "학습데이터(x_train)의 이미지 개수는 372 입니다.\n",
      "x_test shape: (372, 28, 28, 4)\n",
      "y_test shape: (372,)\n"
     ]
    }
   ],
   "source": [
    "# Load the Dataset : Train\n",
    "image_dir_path = \"dataset/train\"\n",
    "x_train, y_train = load_data(image_dir_path, number_of_data=2520)\n",
    "x_train_norm = x_train/255.0   # 입력은 0~1 사이의 값으로 정규화\n",
    "print(\"x_train shape: {}\".format(x_train.shape))\n",
    "print(\"y_train shape: {}\".format(y_train.shape))\n",
    "\n",
    "# Load the Dataset : Test\n",
    "image_dir_path = \"dataset/test\"\n",
    "x_test, y_test = load_data(image_dir_path, number_of_data=372)\n",
    "x_test_norm = x_test/255.0   # 입력은 0~1 사이의 값으로 정규화\n",
    "print(\"x_test shape: {}\".format(x_test.shape))\n",
    "print(\"y_test shape: {}\".format(y_test.shape))\n"
   ]
  },
  {
   "cell_type": "code",
   "execution_count": 86,
   "id": "dc871440",
   "metadata": {},
   "outputs": [
    {
     "name": "stdout",
     "output_type": "stream",
     "text": [
      "Model: \"sequential_11\"\n",
      "_________________________________________________________________\n",
      "Layer (type)                 Output Shape              Param #   \n",
      "=================================================================\n",
      "conv2d_44 (Conv2D)           (None, 26, 26, 8)         296       \n",
      "_________________________________________________________________\n",
      "conv2d_45 (Conv2D)           (None, 24, 24, 16)        1168      \n",
      "_________________________________________________________________\n",
      "dropout_33 (Dropout)         (None, 24, 24, 16)        0         \n",
      "_________________________________________________________________\n",
      "batch_normalization_33 (Batc (None, 24, 24, 16)        64        \n",
      "_________________________________________________________________\n",
      "activation_33 (Activation)   (None, 24, 24, 16)        0         \n",
      "_________________________________________________________________\n",
      "max_pooling2d_33 (MaxPooling (None, 12, 12, 16)        0         \n",
      "_________________________________________________________________\n",
      "conv2d_46 (Conv2D)           (None, 10, 10, 32)        4640      \n",
      "_________________________________________________________________\n",
      "dropout_34 (Dropout)         (None, 10, 10, 32)        0         \n",
      "_________________________________________________________________\n",
      "batch_normalization_34 (Batc (None, 10, 10, 32)        128       \n",
      "_________________________________________________________________\n",
      "activation_34 (Activation)   (None, 10, 10, 32)        0         \n",
      "_________________________________________________________________\n",
      "max_pooling2d_34 (MaxPooling (None, 5, 5, 32)          0         \n",
      "_________________________________________________________________\n",
      "conv2d_47 (Conv2D)           (None, 3, 3, 64)          18496     \n",
      "_________________________________________________________________\n",
      "dropout_35 (Dropout)         (None, 3, 3, 64)          0         \n",
      "_________________________________________________________________\n",
      "batch_normalization_35 (Batc (None, 3, 3, 64)          256       \n",
      "_________________________________________________________________\n",
      "activation_35 (Activation)   (None, 3, 3, 64)          0         \n",
      "_________________________________________________________________\n",
      "max_pooling2d_35 (MaxPooling (None, 1, 1, 64)          0         \n",
      "_________________________________________________________________\n",
      "flatten_11 (Flatten)         (None, 64)                0         \n",
      "_________________________________________________________________\n",
      "dense_11 (Dense)             (None, 16)                1040      \n",
      "=================================================================\n",
      "Total params: 26,088\n",
      "Trainable params: 25,864\n",
      "Non-trainable params: 224\n",
      "_________________________________________________________________\n"
     ]
    }
   ],
   "source": [
    "\n",
    "# 하이퍼 파라미터\n",
    "kernel_regularizer = keras.regularizers.L1(0.001)\n",
    "# kernel_regularizer = None\n",
    "\n",
    "# 모델 설계\n",
    "model = keras.models.Sequential()\n",
    "model.add(keras.layers.Conv2D(8, (3,3), activation='relu', input_shape=(28,28,4)))\n",
    "\n",
    "model.add(keras.layers.Conv2D(16, (3,3), kernel_regularizer=kernel_regularizer))\n",
    "model.add(keras.layers.Dropout(0.1))\n",
    "model.add(keras.layers.BatchNormalization())\n",
    "model.add(keras.layers.Activation('relu'))\n",
    "model.add(keras.layers.MaxPool2D(2,2))\n",
    "\n",
    "model.add(keras.layers.Conv2D(32, (3,3), kernel_regularizer=kernel_regularizer))\n",
    "model.add(keras.layers.Dropout(0.1))\n",
    "model.add(keras.layers.BatchNormalization())\n",
    "model.add(keras.layers.Activation('relu'))\n",
    "model.add(keras.layers.MaxPool2D(2,2))\n",
    "\n",
    "model.add(keras.layers.Conv2D(64, (3,3), kernel_regularizer=kernel_regularizer))\n",
    "model.add(keras.layers.Dropout(0.1))\n",
    "model.add(keras.layers.BatchNormalization())\n",
    "model.add(keras.layers.Activation('relu'))\n",
    "model.add(keras.layers.MaxPool2D(2,2))\n",
    "\n",
    "model.add(keras.layers.Flatten())\n",
    "model.add(keras.layers.Dense(16, activation='softmax'))\n",
    "\n",
    "# 모델 개요\n",
    "model.summary()\n",
    "\n",
    "# 모델 컴파일\n",
    "optimizer = 'adam'\n",
    "loss = 'sparse_categorical_crossentropy',\n",
    "metrics = ['accuracy']\n",
    "model.compile(optimizer=optimizer, loss=loss, metrics=metrics)"
   ]
  },
  {
   "cell_type": "code",
   "execution_count": 93,
   "id": "482c21d3",
   "metadata": {
    "scrolled": true
   },
   "outputs": [
    {
     "name": "stdout",
     "output_type": "stream",
     "text": [
      "Epoch 1/1000\n",
      "56/56 [==============================] - 0s 6ms/step - loss: 0.0608 - accuracy: 0.9989 - val_loss: 0.0621 - val_accuracy: 1.0000\n",
      "Epoch 2/1000\n",
      "56/56 [==============================] - 0s 5ms/step - loss: 0.0668 - accuracy: 0.9983 - val_loss: 0.4025 - val_accuracy: 0.9272\n",
      "Epoch 3/1000\n",
      "56/56 [==============================] - 0s 6ms/step - loss: 0.0518 - accuracy: 0.9994 - val_loss: 0.0407 - val_accuracy: 1.0000\n",
      "Epoch 4/1000\n",
      "56/56 [==============================] - 0s 6ms/step - loss: 0.0397 - accuracy: 0.9989 - val_loss: 0.5156 - val_accuracy: 0.8545\n",
      "Epoch 5/1000\n",
      "56/56 [==============================] - 0s 6ms/step - loss: 0.0355 - accuracy: 1.0000 - val_loss: 0.8170 - val_accuracy: 0.7738\n",
      "Epoch 6/1000\n",
      "56/56 [==============================] - 0s 5ms/step - loss: 0.0290 - accuracy: 0.9989 - val_loss: 0.7655 - val_accuracy: 0.7989\n",
      "Epoch 7/1000\n",
      "56/56 [==============================] - 0s 6ms/step - loss: 0.0432 - accuracy: 0.9994 - val_loss: 0.1565 - val_accuracy: 0.9524\n",
      "Epoch 8/1000\n",
      "56/56 [==============================] - 0s 5ms/step - loss: 0.0300 - accuracy: 1.0000 - val_loss: 0.0414 - val_accuracy: 1.0000\n",
      "Epoch 9/1000\n",
      "56/56 [==============================] - 0s 5ms/step - loss: 0.0400 - accuracy: 0.9972 - val_loss: 0.0723 - val_accuracy: 0.9947\n",
      "Epoch 10/1000\n",
      "56/56 [==============================] - 0s 6ms/step - loss: 0.0743 - accuracy: 0.9977 - val_loss: 0.2389 - val_accuracy: 0.9378\n",
      "Epoch 11/1000\n",
      "56/56 [==============================] - 0s 6ms/step - loss: 0.0777 - accuracy: 0.9960 - val_loss: 2.2365 - val_accuracy: 0.3810\n",
      "Epoch 12/1000\n",
      "56/56 [==============================] - 0s 5ms/step - loss: 0.0716 - accuracy: 0.9972 - val_loss: 0.0610 - val_accuracy: 1.0000\n",
      "Epoch 13/1000\n",
      "56/56 [==============================] - 0s 6ms/step - loss: 0.0722 - accuracy: 0.9972 - val_loss: 0.0612 - val_accuracy: 1.0000\n",
      "12/12 - 0s - loss: 0.1439 - accuracy: 0.9677\n",
      "test_loss: 0.14387616515159607 \n",
      "test_accuracy: 0.9677419066429138\n"
     ]
    }
   ],
   "source": [
    "# 하이퍼 파라미터\n",
    "epochs = 1000\n",
    "\n",
    "# 콜백 지정\n",
    "callbacks = [\n",
    "    keras.callbacks.EarlyStopping(monitor='val_loss', patience=10)\n",
    "]\n",
    "\n",
    "# 모델 학습\n",
    "result = model.fit(x_train_norm, y_train, validation_split=0.3, epochs=epochs, callbacks=callbacks)\n",
    "\n",
    "# 모델 평가\n",
    "test_loss, test_accuracy = model.evaluate(x_test_norm, y_test, verbose=2)\n",
    "print(\"test_loss: {} \".format(test_loss))\n",
    "print(\"test_accuracy: {}\".format(test_accuracy))"
   ]
  },
  {
   "cell_type": "code",
   "execution_count": 102,
   "id": "56c778d7",
   "metadata": {},
   "outputs": [
    {
     "data": {
      "image/png": "[encoded data removed]",
      "text/plain": [
       "<Figure size 864x432 with 1 Axes>"
      ]
     },
     "metadata": {
      "needs_background": "light"
     },
     "output_type": "display_data"
    }
   ],
   "source": [
    "# Visualization\n",
    "import matplotlib.pyplot as plt\n",
    "\n",
    "plt.figure(figsize=(12, 6))\n",
    "plt.plot(np.arange(1, len(result.history['accuracy'])+1), result.history['accuracy'])\n",
    "plt.plot(np.arange(1, len(result.history['val_accuracy'])+1), result.history['val_accuracy'])\n",
    "plt.title('accuracy / val accuracy', fontsize=20)\n",
    "plt.xlabel('Epochs')\n",
    "plt.ylabel('accuracy')\n",
    "plt.legend(['accuracy', 'val_accuracy'], fontsize=15)\n",
    "plt.show()\n"
   ]
  },
  {
   "cell_type": "code",
   "execution_count": null,
   "id": "d7fad648",
   "metadata": {},
   "outputs": [],
   "source": []
  },
  {
   "cell_type": "code",
   "execution_count": null,
   "id": "3cd97db0",
   "metadata": {},
   "outputs": [],
   "source": []
  }
 ],
 "metadata": {
  "kernelspec": {
   "display_name": "Python 3 (ipykernel)",
   "language": "python",
   "name": "python3"
  },
  "language_info": {
   "codemirror_mode": {
    "name": "ipython",
    "version": 3
   },
   "file_extension": ".py",
   "mimetype": "text/x-python",
   "name": "python",
   "nbconvert_exporter": "python",
   "pygments_lexer": "ipython3",
   "version": "3.9.7"
  }
 },
 "nbformat": 4,
 "nbformat_minor": 5
}
